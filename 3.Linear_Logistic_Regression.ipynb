{
 "cells": [
  {
   "cell_type": "code",
   "execution_count": 1,
   "metadata": {},
   "outputs": [],
   "source": [
    "import numpy as np\n",
    "import pandas as pd"
   ]
  },
  {
   "cell_type": "code",
   "execution_count": 2,
   "metadata": {},
   "outputs": [
    {
     "data": {
      "text/html": [
       "<div>\n",
       "<style scoped>\n",
       "    .dataframe tbody tr th:only-of-type {\n",
       "        vertical-align: middle;\n",
       "    }\n",
       "\n",
       "    .dataframe tbody tr th {\n",
       "        vertical-align: top;\n",
       "    }\n",
       "\n",
       "    .dataframe thead th {\n",
       "        text-align: right;\n",
       "    }\n",
       "</style>\n",
       "<table border=\"1\" class=\"dataframe\">\n",
       "  <thead>\n",
       "    <tr style=\"text-align: right;\">\n",
       "      <th></th>\n",
       "      <th>name</th>\n",
       "      <th>height</th>\n",
       "      <th>gender</th>\n",
       "    </tr>\n",
       "  </thead>\n",
       "  <tbody>\n",
       "    <tr>\n",
       "      <td>0</td>\n",
       "      <td>kevin</td>\n",
       "      <td>178.2</td>\n",
       "      <td>male</td>\n",
       "    </tr>\n",
       "    <tr>\n",
       "      <td>1</td>\n",
       "      <td>saily</td>\n",
       "      <td>162.9</td>\n",
       "      <td>female</td>\n",
       "    </tr>\n",
       "    <tr>\n",
       "      <td>2</td>\n",
       "      <td>hoyeon</td>\n",
       "      <td>160.6</td>\n",
       "      <td>female</td>\n",
       "    </tr>\n",
       "    <tr>\n",
       "      <td>3</td>\n",
       "      <td>lux</td>\n",
       "      <td>156.2</td>\n",
       "      <td>None</td>\n",
       "    </tr>\n",
       "  </tbody>\n",
       "</table>\n",
       "</div>"
      ],
      "text/plain": [
       "     name  height  gender\n",
       "0   kevin   178.2    male\n",
       "1   saily   162.9  female\n",
       "2  hoyeon   160.6  female\n",
       "3     lux   156.2    None"
      ]
     },
     "execution_count": 2,
     "metadata": {},
     "output_type": "execute_result"
    }
   ],
   "source": [
    "raw_data = {'name' : ['kevin', 'saily', 'hoyeon', 'lux'], \\\n",
    "            'height' : [178.2, 162.9, 160.6, 156.2], \\\n",
    "            'gender' : ['male', 'female', 'female', None]} # None 아무것도 아닌 것 = NULL\n",
    "\n",
    "pd_data = pd.DataFrame(raw_data)\n",
    "pd_data.head()"
   ]
  },
  {
   "cell_type": "code",
   "execution_count": 4,
   "metadata": {
    "scrolled": true
   },
   "outputs": [
    {
     "data": {
      "text/html": [
       "<div>\n",
       "<style scoped>\n",
       "    .dataframe tbody tr th:only-of-type {\n",
       "        vertical-align: middle;\n",
       "    }\n",
       "\n",
       "    .dataframe tbody tr th {\n",
       "        vertical-align: top;\n",
       "    }\n",
       "\n",
       "    .dataframe thead th {\n",
       "        text-align: right;\n",
       "    }\n",
       "</style>\n",
       "<table border=\"1\" class=\"dataframe\">\n",
       "  <thead>\n",
       "    <tr style=\"text-align: right;\">\n",
       "      <th></th>\n",
       "      <th>name</th>\n",
       "      <th>height</th>\n",
       "      <th>gender</th>\n",
       "    </tr>\n",
       "  </thead>\n",
       "  <tbody>\n",
       "    <tr>\n",
       "      <td>0</td>\n",
       "      <td>kevin</td>\n",
       "      <td>178.2</td>\n",
       "      <td>male</td>\n",
       "    </tr>\n",
       "    <tr>\n",
       "      <td>1</td>\n",
       "      <td>saily</td>\n",
       "      <td>162.9</td>\n",
       "      <td>female</td>\n",
       "    </tr>\n",
       "    <tr>\n",
       "      <td>2</td>\n",
       "      <td>hoyeon</td>\n",
       "      <td>160.6</td>\n",
       "      <td>female</td>\n",
       "    </tr>\n",
       "  </tbody>\n",
       "</table>\n",
       "</div>"
      ],
      "text/plain": [
       "     name  height  gender\n",
       "0   kevin   178.2    male\n",
       "1   saily   162.9  female\n",
       "2  hoyeon   160.6  female"
      ]
     },
     "execution_count": 4,
     "metadata": {},
     "output_type": "execute_result"
    }
   ],
   "source": [
    "# dropna()로 결측치(None) 제거하기\n",
    "filtered_data = pd_data.dropna() # axis = 0는 행, axis = 1은 컬럼\n",
    "filtered_data.head()"
   ]
  },
  {
   "cell_type": "code",
   "execution_count": 5,
   "metadata": {},
   "outputs": [
    {
     "data": {
      "text/html": [
       "<div>\n",
       "<style scoped>\n",
       "    .dataframe tbody tr th:only-of-type {\n",
       "        vertical-align: middle;\n",
       "    }\n",
       "\n",
       "    .dataframe tbody tr th {\n",
       "        vertical-align: top;\n",
       "    }\n",
       "\n",
       "    .dataframe thead th {\n",
       "        text-align: right;\n",
       "    }\n",
       "</style>\n",
       "<table border=\"1\" class=\"dataframe\">\n",
       "  <thead>\n",
       "    <tr style=\"text-align: right;\">\n",
       "      <th></th>\n",
       "      <th>height</th>\n",
       "      <th>gender</th>\n",
       "    </tr>\n",
       "  </thead>\n",
       "  <tbody>\n",
       "    <tr>\n",
       "      <td>0</td>\n",
       "      <td>178.2</td>\n",
       "      <td>male</td>\n",
       "    </tr>\n",
       "    <tr>\n",
       "      <td>1</td>\n",
       "      <td>162.9</td>\n",
       "      <td>female</td>\n",
       "    </tr>\n",
       "    <tr>\n",
       "      <td>2</td>\n",
       "      <td>160.6</td>\n",
       "      <td>female</td>\n",
       "    </tr>\n",
       "  </tbody>\n",
       "</table>\n",
       "</div>"
      ],
      "text/plain": [
       "   height  gender\n",
       "0   178.2    male\n",
       "1   162.9  female\n",
       "2   160.6  female"
      ]
     },
     "execution_count": 5,
     "metadata": {},
     "output_type": "execute_result"
    }
   ],
   "source": [
    "# del을 통해 특정 컬럼 제거하기.\n",
    "del(filtered_data['name']) # filtered_data.drop('name', axis = 1)\n",
    "filtered_data.head()"
   ]
  },
  {
   "cell_type": "code",
   "execution_count": 8,
   "metadata": {},
   "outputs": [
    {
     "name": "stdout",
     "output_type": "stream",
     "text": [
      "<class 'numpy.ndarray'>\n",
      "161.75 178.2\n"
     ]
    }
   ],
   "source": [
    "# 주어진 3개의 데이터 instance를 기반으로 데이터를 무작위 생성\n",
    "female_mean = np.average(filtered_data[filtered_data['gender'] =='female']['height'].values) \n",
    "male_mean = np.average(filtered_data[filtered_data['gender'] =='male']['height'].values)\n",
    "\n",
    "# type 중요! 인풋 - 결과값 -> [column]은 Series, .value 하면 nd.array로 반환!! \n",
    "print(type(filtered_data[filtered_data['gender'] =='female']['height'].values))\n",
    "                       \n",
    "\n",
    "print(female_mean, male_mean) # np는 floot 형(return) 짐작 가능. \n",
    "\n",
    "# 우리는 식에 대한 이해와 더불어, 속 깊은 의미에 대해 이해를 해야함. ex) value형에 대한 반환값 list, floot 등.. 이해!"
   ]
  },
  {
   "cell_type": "code",
   "execution_count": 9,
   "metadata": {},
   "outputs": [
    {
     "name": "stdout",
     "output_type": "stream",
     "text": [
      "[167.04215704 162.95047163 164.68621395 168.4726796  167.35267397\n",
      " 158.81816636 164.60026525 161.29592838 161.44034344 162.98179551]\n"
     ]
    }
   ],
   "source": [
    "# fake data 생성\n",
    "np.random.seed(0)\n",
    "variance = 3\n",
    "female_heights = variance * np.random.randn(200) + female_mean # broad casting 적용\n",
    "male_heights = variance * np.random.randn(200) + male_mean # np.array로 반환  \n",
    "\n",
    "# 차이\n",
    "# list[0,0] * 2 = [0,0,0,0] 일때는 리스트 일때임!\n",
    "# array[1,1] * 2 = [2,2] 일때는 array일 때임!\n",
    "\n",
    "print(female_heights[:10])\n",
    "\n",
    "# randn(m,n) : 평균 0, 편차 1의 가우시안 표준정규분포 난수를 matrix(m,n)생성 array 배열 \n",
    "# * 3을 한 것은 "
   ]
  },
  {
   "cell_type": "code",
   "execution_count": 10,
   "metadata": {},
   "outputs": [
    {
     "name": "stderr",
     "output_type": "stream",
     "text": [
      "/usr/local/lib/python3.6/dist-packages/pandas/core/frame.py:7123: FutureWarning: Sorting because non-concatenation axis is not aligned. A future version\n",
      "of pandas will change to not sort by default.\n",
      "\n",
      "To accept the future behavior, pass 'sort=False'.\n",
      "\n",
      "To retain the current behavior and silence the warning, pass 'sort=True'.\n",
      "\n",
      "  sort=sort,\n"
     ]
    },
    {
     "data": {
      "text/html": [
       "<div>\n",
       "<style scoped>\n",
       "    .dataframe tbody tr th:only-of-type {\n",
       "        vertical-align: middle;\n",
       "    }\n",
       "\n",
       "    .dataframe tbody tr th {\n",
       "        vertical-align: top;\n",
       "    }\n",
       "\n",
       "    .dataframe thead th {\n",
       "        text-align: right;\n",
       "    }\n",
       "</style>\n",
       "<table border=\"1\" class=\"dataframe\">\n",
       "  <thead>\n",
       "    <tr style=\"text-align: right;\">\n",
       "      <th></th>\n",
       "      <th>gender</th>\n",
       "      <th>height</th>\n",
       "    </tr>\n",
       "  </thead>\n",
       "  <tbody>\n",
       "    <tr>\n",
       "      <td>0</td>\n",
       "      <td>male</td>\n",
       "      <td>178.200000</td>\n",
       "    </tr>\n",
       "    <tr>\n",
       "      <td>1</td>\n",
       "      <td>female</td>\n",
       "      <td>162.900000</td>\n",
       "    </tr>\n",
       "    <tr>\n",
       "      <td>2</td>\n",
       "      <td>female</td>\n",
       "      <td>160.600000</td>\n",
       "    </tr>\n",
       "    <tr>\n",
       "      <td>3</td>\n",
       "      <td>female</td>\n",
       "      <td>167.042157</td>\n",
       "    </tr>\n",
       "    <tr>\n",
       "      <td>4</td>\n",
       "      <td>female</td>\n",
       "      <td>162.950472</td>\n",
       "    </tr>\n",
       "  </tbody>\n",
       "</table>\n",
       "</div>"
      ],
      "text/plain": [
       "   gender      height\n",
       "0    male  178.200000\n",
       "1  female  162.900000\n",
       "2  female  160.600000\n",
       "3  female  167.042157\n",
       "4  female  162.950472"
      ]
     },
     "execution_count": 10,
     "metadata": {},
     "output_type": "execute_result"
    }
   ],
   "source": [
    "generated_data = {'gender' : ['female'] * 200 + ['male'] * 200, 'height' : list(female_heights) + list(male_heights)}\n",
    "\n",
    "filtered_data = filtered_data.append(pd.DataFrame(generated_data), ignore_index = True)\n",
    "filtered_data.head()"
   ]
  },
  {
   "cell_type": "code",
   "execution_count": 11,
   "metadata": {},
   "outputs": [
    {
     "data": {
      "text/plain": [
       "(403, 2)"
      ]
     },
     "execution_count": 11,
     "metadata": {},
     "output_type": "execute_result"
    }
   ],
   "source": [
    "filtered_data.shape"
   ]
  },
  {
   "cell_type": "code",
   "execution_count": 13,
   "metadata": {},
   "outputs": [
    {
     "data": {
      "text/plain": [
       "female    202\n",
       "male      201\n",
       "Name: gender, dtype: int64"
      ]
     },
     "execution_count": 13,
     "metadata": {},
     "output_type": "execute_result"
    }
   ],
   "source": [
    "filtered_data['gender'].value_counts()"
   ]
  },
  {
   "cell_type": "code",
   "execution_count": 15,
   "metadata": {},
   "outputs": [
    {
     "data": {
      "text/html": [
       "<div>\n",
       "<style scoped>\n",
       "    .dataframe tbody tr th:only-of-type {\n",
       "        vertical-align: middle;\n",
       "    }\n",
       "\n",
       "    .dataframe tbody tr th {\n",
       "        vertical-align: top;\n",
       "    }\n",
       "\n",
       "    .dataframe thead th {\n",
       "        text-align: right;\n",
       "    }\n",
       "</style>\n",
       "<table border=\"1\" class=\"dataframe\">\n",
       "  <thead>\n",
       "    <tr style=\"text-align: right;\">\n",
       "      <th></th>\n",
       "      <th>gender</th>\n",
       "      <th>height</th>\n",
       "    </tr>\n",
       "  </thead>\n",
       "  <tbody>\n",
       "    <tr>\n",
       "      <td>398</td>\n",
       "      <td>1</td>\n",
       "      <td>175.915523</td>\n",
       "    </tr>\n",
       "    <tr>\n",
       "      <td>399</td>\n",
       "      <td>1</td>\n",
       "      <td>180.773772</td>\n",
       "    </tr>\n",
       "    <tr>\n",
       "      <td>400</td>\n",
       "      <td>1</td>\n",
       "      <td>181.623306</td>\n",
       "    </tr>\n",
       "    <tr>\n",
       "      <td>401</td>\n",
       "      <td>1</td>\n",
       "      <td>182.599736</td>\n",
       "    </tr>\n",
       "    <tr>\n",
       "      <td>402</td>\n",
       "      <td>1</td>\n",
       "      <td>180.757656</td>\n",
       "    </tr>\n",
       "  </tbody>\n",
       "</table>\n",
       "</div>"
      ],
      "text/plain": [
       "     gender      height\n",
       "398       1  175.915523\n",
       "399       1  180.773772\n",
       "400       1  181.623306\n",
       "401       1  182.599736\n",
       "402       1  180.757656"
      ]
     },
     "execution_count": 15,
     "metadata": {},
     "output_type": "execute_result"
    }
   ],
   "source": [
    "# 레이블 인코더 fit_transform \n",
    "from sklearn import preprocessing\n",
    "\n",
    "le_gender = preprocessing.LabelEncoder()\n",
    "final_data = filtered_data.copy()\n",
    "filtered_data['gender'] = le_gender.fit_transform(filtered_data['gender'])\n",
    "\n",
    "filtered_data.tail()"
   ]
  },
  {
   "cell_type": "markdown",
   "metadata": {},
   "source": [
    "#### Linear regression model 적용"
   ]
  },
  {
   "cell_type": "code",
   "execution_count": 20,
   "metadata": {},
   "outputs": [
    {
     "name": "stdout",
     "output_type": "stream",
     "text": [
      "Fold 1\n",
      "0.8775455225508926\n",
      "Fold 2\n",
      "0.8753348694452203\n",
      "Fold 3\n",
      "0.8724916681752231\n",
      "Fold 4\n",
      "0.8573155889559668\n",
      "Fold 5\n",
      "0.889475493349478\n",
      "0.8744326284953562\n"
     ]
    }
   ],
   "source": [
    "from sklearn.model_selection import KFold\n",
    "from sklearn.linear_model import LinearRegression\n",
    "\n",
    "features = ['height']\n",
    "\n",
    "kf = KFold(n_splits = 5, shuffle = True) # 5등분, 셔플링 O\n",
    "\n",
    "accrs = [] # accuracy 값\n",
    "fold_idx = 1\n",
    "for train_idx, test_idx in kf.split(final_data) :\n",
    "    print(\"Fold {}\".format(fold_idx))\n",
    "    train_d, test_d = final_data.iloc[train_idx], final_data.iloc[test_idx] # \n",
    "    # type 을 확인해가면서 확인하기 !\n",
    "    train_y = train_d['gender']\n",
    "    train_x = train_d[features]\n",
    "    \n",
    "    test_y = test_d['gender']\n",
    "    test_x = test_d[features]\n",
    "    \n",
    "    model = LinearRegression()\n",
    "    model.fit(train_x, train_y)\n",
    "    \n",
    "    mean_accr = model.score(test_x, test_y) # 스코어 비교\n",
    "    print(mean_accr)\n",
    "    accrs.append(mean_accr)\n",
    "    \n",
    "    fold_idx += 1\n",
    "    \n",
    "print(np.average(accrs))"
   ]
  },
  {
   "cell_type": "code",
   "execution_count": 22,
   "metadata": {},
   "outputs": [
    {
     "name": "stdout",
     "output_type": "stream",
     "text": [
      "Fold 1\n",
      "1.0\n",
      "Fold 2\n",
      "1.0\n",
      "Fold 3\n",
      "1.0\n",
      "Fold 4\n",
      "1.0\n",
      "Fold 5\n",
      "1.0\n",
      "1.0\n"
     ]
    }
   ],
   "source": [
    "from sklearn.model_selection import KFold\n",
    "from sklearn.linear_model import LogisticRegression\n",
    "\n",
    "features = ['height']\n",
    "\n",
    "kf = KFold(n_splits = 5, shuffle = True) # 5등분, 셔플링 O\n",
    "\n",
    "accrs = [] # accuracy 값\n",
    "fold_idx = 1\n",
    "for train_idx, test_idx in kf.split(final_data) :\n",
    "    print(\"Fold {}\".format(fold_idx))\n",
    "    train_d, test_d = final_data.iloc[train_idx], final_data.iloc[test_idx] # \n",
    "    # type 을 확인해가면서 확인하기 !\n",
    "    train_y = train_d['gender']\n",
    "    train_x = train_d[features]\n",
    "    \n",
    "    test_y = test_d['gender']\n",
    "    test_x = test_d[features]\n",
    "    \n",
    "    model = LogisticRegression(solver = 'lbfgs') # 최적화 알고리즘\n",
    "    model.fit(train_x, train_y)\n",
    "    \n",
    "    mean_accr = model.score(test_x, test_y) # 스코어 비교\n",
    "    print(mean_accr)\n",
    "    accrs.append(mean_accr)\n",
    "    \n",
    "    fold_idx += 1\n",
    "    \n",
    "print(np.average(accrs))"
   ]
  }
 ],
 "metadata": {
  "kernelspec": {
   "display_name": "Python 3",
   "language": "python",
   "name": "python3"
  },
  "language_info": {
   "codemirror_mode": {
    "name": "ipython",
    "version": 3
   },
   "file_extension": ".py",
   "mimetype": "text/x-python",
   "name": "python",
   "nbconvert_exporter": "python",
   "pygments_lexer": "ipython3",
   "version": "3.6.8"
  }
 },
 "nbformat": 4,
 "nbformat_minor": 2
}
