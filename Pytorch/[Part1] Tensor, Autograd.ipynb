{
 "cells": [
  {
   "cell_type": "code",
   "execution_count": 1,
   "id": "specialized-hello",
   "metadata": {},
   "outputs": [],
   "source": [
    "import torch"
   ]
  },
  {
   "cell_type": "markdown",
   "id": "catholic-network",
   "metadata": {},
   "source": [
    "### 4.1 텐서"
   ]
  },
  {
   "cell_type": "markdown",
   "id": "cross-banner",
   "metadata": {},
   "source": [
    "#### 4.1.1 Scalar"
   ]
  },
  {
   "cell_type": "code",
   "execution_count": 35,
   "id": "hollywood-survey",
   "metadata": {},
   "outputs": [
    {
     "name": "stdout",
     "output_type": "stream",
     "text": [
      "tensor([1.])\n",
      "tensor([3.])\n"
     ]
    }
   ],
   "source": [
    "scalar1 = torch.tensor([1.])\n",
    "print(scalar1)\n",
    "\n",
    "scalar2 = torch.tensor([3.])\n",
    "print(scalar2)"
   ]
  },
  {
   "cell_type": "code",
   "execution_count": 9,
   "id": "unauthorized-hudson",
   "metadata": {},
   "outputs": [
    {
     "name": "stdout",
     "output_type": "stream",
     "text": [
      "tensor([4.])\n",
      "tensor([-2.])\n",
      "tensor([3.])\n",
      "tensor([0.3333])\n"
     ]
    }
   ],
   "source": [
    "add_scalar = scalar1 + scalar2\n",
    "print(add_scalar)\n",
    "\n",
    "add_scalar = scalar1 - scalar2\n",
    "print(add_scalar)\n",
    "\n",
    "add_scalar = scalar1 * scalar2\n",
    "print(add_scalar)\n",
    "\n",
    "add_scalar = scalar1 / scalar2\n",
    "print(add_scalar)"
   ]
  },
  {
   "cell_type": "code",
   "execution_count": 12,
   "id": "indirect-produce",
   "metadata": {},
   "outputs": [
    {
     "data": {
      "text/plain": [
       "tensor([0.3333])"
      ]
     },
     "execution_count": 12,
     "metadata": {},
     "output_type": "execute_result"
    }
   ],
   "source": [
    "torch.add(scalar1,scalar2)\n",
    "torch.sub(scalar1,scalar2)\n",
    "torch.mul(scalar1,scalar2)\n",
    "torch.div(scalar1,scalar2)"
   ]
  },
  {
   "cell_type": "markdown",
   "id": "animated-silicon",
   "metadata": {},
   "source": [
    "#### 4.1.2 Vector"
   ]
  },
  {
   "cell_type": "code",
   "execution_count": 17,
   "id": "strong-anthropology",
   "metadata": {},
   "outputs": [
    {
     "name": "stdout",
     "output_type": "stream",
     "text": [
      "tensor([1., 2., 3.])\n",
      "tensor([1., 2., 3.])\n"
     ]
    }
   ],
   "source": [
    "vector1 = torch.tensor([1., 2., 3.])\n",
    "print(vector1)\n",
    "\n",
    "vector2 = torch.tensor([4., 5., 6.])\n",
    "print(vector1)"
   ]
  },
  {
   "cell_type": "code",
   "execution_count": 18,
   "id": "raising-april",
   "metadata": {},
   "outputs": [
    {
     "name": "stdout",
     "output_type": "stream",
     "text": [
      "tensor([5., 7., 9.])\n",
      "tensor([-3., -3., -3.])\n",
      "tensor([ 4., 10., 18.])\n",
      "tensor([0.2500, 0.4000, 0.5000])\n"
     ]
    }
   ],
   "source": [
    "add_vector = vector1 + vector2\n",
    "print(add_vector)\n",
    "\n",
    "sub_vector = vector1 - vector2\n",
    "print(sub_vector)\n",
    "\n",
    "mul_vector = vector1 * vector2\n",
    "print(mul_vector)\n",
    "\n",
    "div_vector = vector1 / vector2\n",
    "print(div_vector)"
   ]
  },
  {
   "cell_type": "code",
   "execution_count": 22,
   "id": "municipal-hungary",
   "metadata": {},
   "outputs": [
    {
     "data": {
      "text/plain": [
       "tensor(32.)"
      ]
     },
     "execution_count": 22,
     "metadata": {},
     "output_type": "execute_result"
    }
   ],
   "source": [
    "torch.add(vector1, vector2)\n",
    "torch.sub(vector1, vector2)\n",
    "torch.mul(vector1, vector2)\n",
    "torch.div(vector1, vector2)\n",
    "torch.dot(vector1, vector2) # 내적의 합"
   ]
  },
  {
   "cell_type": "markdown",
   "id": "green-morning",
   "metadata": {},
   "source": [
    "#### 4.1.3 Matrix(행렬)"
   ]
  },
  {
   "cell_type": "code",
   "execution_count": 25,
   "id": "offensive-active",
   "metadata": {},
   "outputs": [
    {
     "name": "stdout",
     "output_type": "stream",
     "text": [
      "tensor([[1., 2.],\n",
      "        [3., 4.]])\n",
      "tensor([[5., 6.],\n",
      "        [7., 8.]])\n"
     ]
    }
   ],
   "source": [
    "matrix1 = torch.tensor([[1., 2.], [3., 4.]])\n",
    "print(matrix1)\n",
    "\n",
    "matrix2 = torch.tensor([[5., 6.], [7., 8.]])\n",
    "print(matrix2)"
   ]
  },
  {
   "cell_type": "code",
   "execution_count": 39,
   "id": "floating-salon",
   "metadata": {},
   "outputs": [
    {
     "name": "stdout",
     "output_type": "stream",
     "text": [
      "tensor([[ 6.,  8.],\n",
      "        [10., 12.]])\n",
      "tensor([[-4., -4.],\n",
      "        [-4., -4.]])\n",
      "tensor([[ 6.,  8.],\n",
      "        [10., 12.]])\n",
      "tensor([[0.2000, 0.3333],\n",
      "        [0.4286, 0.5000]])\n"
     ]
    }
   ],
   "source": [
    "sum_matrix = matrix1 + matrix2\n",
    "print(sum_matrix)\n",
    "\n",
    "sub_matrix = matrix1 - matrix2\n",
    "print(sub_matrix)\n",
    "\n",
    "mul_matrix = matrix1 * matrix2\n",
    "print(sum_matrix)\n",
    "\n",
    "div_matrix = matrix1 / matrix2\n",
    "print(div_matrix)"
   ]
  },
  {
   "cell_type": "code",
   "execution_count": 40,
   "id": "retained-thriller",
   "metadata": {},
   "outputs": [
    {
     "data": {
      "text/plain": [
       "tensor([[19., 22.],\n",
       "        [43., 50.]])"
      ]
     },
     "execution_count": 40,
     "metadata": {},
     "output_type": "execute_result"
    }
   ],
   "source": [
    "torch.add(matrix1, matrix2)\n",
    "torch.sub(matrix1, matrix2)\n",
    "torch.mul(matrix1, matrix2)\n",
    "torch.div(matrix1, matrix2)\n",
    "torch.matmul(matrix1, matrix2) # 내적"
   ]
  },
  {
   "cell_type": "markdown",
   "id": "instrumental-timer",
   "metadata": {},
   "source": [
    "#### 4.1.4 텐서"
   ]
  },
  {
   "cell_type": "code",
   "execution_count": 42,
   "id": "thick-improvement",
   "metadata": {},
   "outputs": [
    {
     "name": "stdout",
     "output_type": "stream",
     "text": [
      "tensor([[[1., 2.],\n",
      "         [3., 4.]],\n",
      "\n",
      "        [[5., 6.],\n",
      "         [7., 8.]]])\n",
      "tensor([[[ 9., 10.],\n",
      "         [11., 12.]],\n",
      "\n",
      "        [[13., 14.],\n",
      "         [15., 16.]]])\n"
     ]
    }
   ],
   "source": [
    "tensor1 = torch.tensor([[[1., 2.], [3., 4.]], [[5., 6.], [7.,8.]]])\n",
    "print(tensor1)\n",
    "\n",
    "tensor2 = torch.tensor([[[9., 10.], [11., 12.]], [[13., 14.], [15.,16.]]])\n",
    "print(tensor2)"
   ]
  },
  {
   "cell_type": "code",
   "execution_count": 44,
   "id": "frozen-tattoo",
   "metadata": {},
   "outputs": [
    {
     "name": "stdout",
     "output_type": "stream",
     "text": [
      "tensor([[[10., 12.],\n",
      "         [14., 16.]],\n",
      "\n",
      "        [[18., 20.],\n",
      "         [22., 24.]]])\n",
      "tensor([[[-8., -8.],\n",
      "         [-8., -8.]],\n",
      "\n",
      "        [[-8., -8.],\n",
      "         [-8., -8.]]])\n",
      "tensor([[[  9.,  20.],\n",
      "         [ 33.,  48.]],\n",
      "\n",
      "        [[ 65.,  84.],\n",
      "         [105., 128.]]])\n",
      "tensor([[[0.1111, 0.2000],\n",
      "         [0.2727, 0.3333]],\n",
      "\n",
      "        [[0.3846, 0.4286],\n",
      "         [0.4667, 0.5000]]])\n"
     ]
    }
   ],
   "source": [
    "sum_tensor = tensor1 + tensor2\n",
    "print(sum_tensor)\n",
    "\n",
    "sub_tensor = tensor1 - tensor2\n",
    "print(sub_tensor)\n",
    "\n",
    "mul_tensor = tensor1 * tensor2\n",
    "print(mul_tensor)\n",
    "\n",
    "div_tensor = tensor1 / tensor2\n",
    "print(div_tensor)"
   ]
  },
  {
   "cell_type": "code",
   "execution_count": 45,
   "id": "exterior-green",
   "metadata": {},
   "outputs": [
    {
     "data": {
      "text/plain": [
       "tensor([[[ 31.,  34.],\n",
       "         [ 71.,  78.]],\n",
       "\n",
       "        [[155., 166.],\n",
       "         [211., 226.]]])"
      ]
     },
     "execution_count": 45,
     "metadata": {},
     "output_type": "execute_result"
    }
   ],
   "source": [
    "torch.add(tensor1, tensor2)\n",
    "torch.sub(tensor1, tensor2)\n",
    "torch.mul(tensor1, tensor2)\n",
    "torch.div(tensor1, tensor2)\n",
    "torch.matmul(tensor1, tensor2)"
   ]
  },
  {
   "cell_type": "markdown",
   "id": "reflected-chapel",
   "metadata": {},
   "source": [
    "### 4.2 Autograd"
   ]
  },
  {
   "cell_type": "code",
   "execution_count": 49,
   "id": "unknown-amendment",
   "metadata": {},
   "outputs": [
    {
     "data": {
      "text/plain": [
       "device(type='cpu')"
      ]
     },
     "execution_count": 49,
     "metadata": {},
     "output_type": "execute_result"
    }
   ],
   "source": [
    "if torch.cuda.is_available():\n",
    "    DEVICE = torch.device('cuda')\n",
    "else:\n",
    "    DEVICE = torch.device('cpu')\n",
    "DEVICE"
   ]
  },
  {
   "cell_type": "code",
   "execution_count": 66,
   "id": "ahead-arbor",
   "metadata": {},
   "outputs": [],
   "source": [
    "BATCH_SIZE = 64   # 계산되는 데이터 개수 = 즉, input이 64개라고 가정\n",
    "INPUT_SIZE = 1000 # 입력층의 노드 수 (64, 1000)\n",
    "HIDDEN_SIZE = 100 # 계산되는 파라미터 수 (1000, 100)\n",
    "OUTPUT_SIZE = 10  # 10 크기의 분류"
   ]
  },
  {
   "cell_type": "code",
   "execution_count": 91,
   "id": "extraordinary-giving",
   "metadata": {},
   "outputs": [],
   "source": [
    "x = torch.randn(BATCH_SIZE,      # (64, 1000)으로 생성\n",
    "               INPUT_SIZE, \n",
    "               device = DEVICE, \n",
    "               dtype = torch.float,\n",
    "               requires_grad = False) # ? \n",
    "\n",
    "y = torch.randn(BATCH_SIZE,    # (64, 10)\n",
    "               OUTPUT_SIZE, \n",
    "               device = DEVICE, \n",
    "               dtype = torch.float,\n",
    "               requires_grad = False)\n",
    "\n",
    "w1 = torch.randn(INPUT_SIZE,    # (1000, 100)\n",
    "               HIDDEN_SIZE, \n",
    "               device = DEVICE, \n",
    "               dtype = torch.float,\n",
    "               requires_grad = True)\n",
    "\n",
    "w2 = torch.randn(HIDDEN_SIZE,   # (100, 10)\n",
    "               OUTPUT_SIZE, \n",
    "               device = DEVICE, \n",
    "               dtype = torch.float,\n",
    "               requires_grad = True)"
   ]
  },
  {
   "cell_type": "code",
   "execution_count": 92,
   "id": "junior-amendment",
   "metadata": {},
   "outputs": [
    {
     "name": "stdout",
     "output_type": "stream",
     "text": [
      "Iteration :  100 \t Loss : 490.12890625\n",
      "Iteration :  200 \t Loss : 2.2500107288360596\n",
      "Iteration :  300 \t Loss : 0.01625542715191841\n",
      "Iteration :  400 \t Loss : 0.0003451093507464975\n",
      "Iteration :  500 \t Loss : 5.283463542582467e-05\n"
     ]
    }
   ],
   "source": [
    "learning_rate = 1e-06\n",
    "\n",
    "for t in range(1, 501):\n",
    "    y_pred = x.mm(w1).clamp(min = 0).mm(w2) # 곱하여 비선형함수 적용, = ReLU()\n",
    "    \n",
    "    loss = (y_pred - y).pow(2).sum() # pow  제곱 합\n",
    "    if t % 100 == 0:\n",
    "        print(\"Iteration : \", t, \"\\t\", \"Loss :\" , loss.item())\n",
    "\n",
    "    loss.backward()\n",
    "    \n",
    "    with torch.no_grad():\n",
    "        w1 -= learning_rate * w1.grad\n",
    "        w2 -= learning_rate * w2.grad\n",
    "        \n",
    "        w1.grad.zero_()\n",
    "        w2.grad.zero_()"
   ]
  }
 ],
 "metadata": {
  "kernelspec": {
   "display_name": "Python 3",
   "language": "python",
   "name": "python3"
  },
  "language_info": {
   "codemirror_mode": {
    "name": "ipython",
    "version": 3
   },
   "file_extension": ".py",
   "mimetype": "text/x-python",
   "name": "python",
   "nbconvert_exporter": "python",
   "pygments_lexer": "ipython3",
   "version": "3.8.5"
  }
 },
 "nbformat": 4,
 "nbformat_minor": 5
}
