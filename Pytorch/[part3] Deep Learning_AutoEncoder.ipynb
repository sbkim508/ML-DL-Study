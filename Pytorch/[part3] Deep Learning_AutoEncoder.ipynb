{
 "cells": [
  {
   "cell_type": "code",
   "execution_count": 1,
   "metadata": {},
   "outputs": [],
   "source": [
    "''' 1. Module Import '''\n",
    "import numpy as np\n",
    "import matplotlib.pyplot as plt\n",
    "\n",
    "import torch\n",
    "import torch.nn as nn\n",
    "import torch.nn.functional as F\n",
    "from torchvision import transforms, datasets"
   ]
  },
  {
   "cell_type": "code",
   "execution_count": 2,
   "metadata": {},
   "outputs": [
    {
     "name": "stdout",
     "output_type": "stream",
     "text": [
      "Using PyTorch version: 1.9.0+cpu  Device: cpu\n"
     ]
    }
   ],
   "source": [
    "''' 2. 딥러닝 모델을 설계할 때 활용하는 장비 확인 '''\n",
    "if torch.cuda.is_available():\n",
    "    DEVICE = torch.device('cuda')\n",
    "else:\n",
    "    DEVICE = torch.device('cpu')\n",
    "print('Using PyTorch version:', torch.__version__, ' Device:', DEVICE)"
   ]
  },
  {
   "cell_type": "code",
   "execution_count": 3,
   "metadata": {},
   "outputs": [],
   "source": [
    "BATCH_SIZE = 32\n",
    "EPOCHS = 10"
   ]
  },
  {
   "cell_type": "code",
   "execution_count": 4,
   "metadata": {},
   "outputs": [
    {
     "name": "stderr",
     "output_type": "stream",
     "text": [
      "C:\\Users\\tjdqj\\anaconda3\\lib\\site-packages\\torchvision\\datasets\\mnist.py:498: UserWarning: The given NumPy array is not writeable, and PyTorch does not support non-writeable tensors. This means you can write to the underlying (supposedly non-writeable) NumPy array using the tensor. You may want to copy the array to protect its data or make it writeable before converting it to a tensor. This type of warning will be suppressed for the rest of this program. (Triggered internally at  ..\\torch\\csrc\\utils\\tensor_numpy.cpp:180.)\n",
      "  return torch.from_numpy(parsed.astype(m[2], copy=False)).view(*s)\n"
     ]
    }
   ],
   "source": [
    "''' 3. FashionMNIST 데이터 다운로드 (Train set, Test set 분리하기) '''\n",
    "train_dataset = datasets.FashionMNIST(root = \"/data/FashionMNIST\",\n",
    "                                      train = True,\n",
    "                                      download = True,\n",
    "                                      transform = transforms.ToTensor())\n",
    "\n",
    "test_dataset = datasets.FashionMNIST(root = \"/data/FashionMNIST\",\n",
    "                                     train = False,\n",
    "                                     transform = transforms.ToTensor())\n",
    "\n",
    "train_loader = torch.utils.data.DataLoader(dataset = train_dataset, # train_dataset을 불러들여\n",
    "                                           batch_size = BATCH_SIZE, # BATCH_SIZE 정리\n",
    "                                           shuffle = True)\n",
    "\n",
    "test_loader = torch.utils.data.DataLoader(dataset = test_dataset,\n",
    "                                          batch_size = BATCH_SIZE,\n",
    "                                          shuffle = False)"
   ]
  },
  {
   "cell_type": "code",
   "execution_count": 5,
   "metadata": {},
   "outputs": [
    {
     "name": "stdout",
     "output_type": "stream",
     "text": [
      "X_train: torch.Size([32, 1, 28, 28]) type: torch.FloatTensor\n",
      "y_train: torch.Size([32]) type: torch.LongTensor\n"
     ]
    }
   ],
   "source": [
    "''' 4. 데이터 확인하기 (1) '''\n",
    "for (X_train, y_train) in train_loader:\n",
    "    print('X_train:', X_train.size(), 'type:', X_train.type())\n",
    "    print('y_train:', y_train.size(), 'type:', y_train.type())\n",
    "    break"
   ]
  },
  {
   "cell_type": "code",
   "execution_count": 6,
   "metadata": {},
   "outputs": [],
   "source": [
    "# ''' 5. 데이터 확인하기 (2) '''\n",
    "# pltsize = 1\n",
    "# plt.figure(figsize=(10 * pltsize, pltsize))\n",
    "# for i in range(10):\n",
    "#     plt.subplot(1, 10, i + 1)\n",
    "#     plt.axis('off')\n",
    "#     plt.imshow(X_train[i, :, :, :].numpy().reshape(28, 28), cmap = \"gray_r\")\n",
    "#     plt.title('Class: ' + str(y_train[i].item()))"
   ]
  },
  {
   "cell_type": "code",
   "execution_count": 7,
   "metadata": {},
   "outputs": [],
   "source": [
    "''' 6. AutoEncoder (AE) 모델 설계하기 '''\n",
    "class AE(nn.Module):\n",
    "    def __init__(self):\n",
    "        super(AE, self).__init__()\n",
    "        \n",
    "        self.encoder = nn.Sequential(      # Sequential, 인코더 정의\n",
    "            nn.Linear(28 * 28, 512),       # 784 Input -> 512 layer\n",
    "            nn.ReLU(),\n",
    "            nn.Linear(512, 256),\n",
    "            nn.ReLU(),\n",
    "            nn.Linear(256, 32),)           # 256 -> 32로 \n",
    "        \n",
    "        self.decoder = nn.Sequential(      # 디코더 정의\n",
    "            nn.Linear(32, 256),            # 32 -> 256 으로 디코더 \n",
    "            nn.ReLU(),\n",
    "            nn.Linear(256, 512),\n",
    "            nn.ReLU(),\n",
    "            nn.Linear(512, 28 * 28),)\n",
    "\n",
    "    def forward(self, x):\n",
    "        encoded = self.encoder(x)\n",
    "        decoded = self.decoder(encoded)\n",
    "        return encoded, decoded           # 인코더와 디코더 둘다 반환"
   ]
  },
  {
   "cell_type": "code",
   "execution_count": 8,
   "metadata": {},
   "outputs": [
    {
     "name": "stdout",
     "output_type": "stream",
     "text": [
      "AE(\n",
      "  (encoder): Sequential(\n",
      "    (0): Linear(in_features=784, out_features=512, bias=True)\n",
      "    (1): ReLU()\n",
      "    (2): Linear(in_features=512, out_features=256, bias=True)\n",
      "    (3): ReLU()\n",
      "    (4): Linear(in_features=256, out_features=32, bias=True)\n",
      "  )\n",
      "  (decoder): Sequential(\n",
      "    (0): Linear(in_features=32, out_features=256, bias=True)\n",
      "    (1): ReLU()\n",
      "    (2): Linear(in_features=256, out_features=512, bias=True)\n",
      "    (3): ReLU()\n",
      "    (4): Linear(in_features=512, out_features=784, bias=True)\n",
      "  )\n",
      ")\n"
     ]
    }
   ],
   "source": [
    "''' 7. Optimizer, Objective Function 설정하기 '''\n",
    "\n",
    "model = AE().to(DEVICE)\n",
    "optimizer = torch.optim.Adam(model.parameters(), lr = 0.001) # Adam으로 학습 진행\n",
    "criterion = nn.MSELoss()              # Loss function은 MSELoss\n",
    "\n",
    "print(model)"
   ]
  },
  {
   "cell_type": "code",
   "execution_count": 9,
   "metadata": {},
   "outputs": [],
   "source": [
    "''' 8. AE 모델 학습을 진행하며 학습 데이터에 대한 모델 성능을 확인하는 함수 정의 '''\n",
    "def train(model, train_loader, optimizer, log_interval):\n",
    "    model.train()           # 학습을 진행모드로 변경\n",
    "    for batch_idx, (image, _) in enumerate(train_loader):           # batch와 image 반환(여기서 정답값이 없으므로 (, _)\n",
    "        image = image.view(-1, 28 * 28).to(DEVICE)                  # 2차원에서 1차원으로 변경, 이미지(인풋)\n",
    "        target = image.view(-1, 28 * 28).to(DEVICE)                 # 2차원에서 1차원으로 변경, 타겟값(아웃풋 비교용)\n",
    "        optimizer.zero_grad()                  # 파라미터 초기화!\n",
    "        encoded, decoded = model(image)        # 인코더와 디코더 반환\n",
    "        loss = criterion(decoded, target)      # 디코더(출력값) <> 타겟값(아웃풋 비교용)\n",
    "        loss.backward()                        # 역전파하여 loss 최소화\n",
    "        optimizer.step()                       # 파라미터 업데이트\n",
    "\n",
    "        if batch_idx % log_interval == 0:\n",
    "            print(\"Train Epoch: {} [{}/{} ({:.0f}%)]\\tTrain Loss: {:.6f}\".format(\n",
    "                epoch, batch_idx * len(image), \n",
    "                len(train_loader.dataset), 100. * batch_idx / len(train_loader), \n",
    "                loss.item()))"
   ]
  },
  {
   "cell_type": "code",
   "execution_count": 10,
   "metadata": {},
   "outputs": [],
   "source": [
    "''' 9. 학습되는 과정 속에서 검증 데이터에 대한 모델 성능을 확인하는 함수 정의 '''\n",
    "def evaluate(model, test_loader):\n",
    "    model.eval()                        # 평가 검증 모드 변환\n",
    "    test_loss = 0                       # loss 초기화 \n",
    "    real_image = []                     # 실제 이미지 리스트 \n",
    "    gen_image = []                      # 생성 이미지 리스트\n",
    "    with torch.no_grad():               # 업데이트 현상 방지 (Gradient 흐름 억제)\n",
    "        for image, _ in test_loader:    # train과 똑같음\n",
    "            image = image.view(-1, 28 * 28).to(DEVICE)\n",
    "            target = image.view(-1, 28 * 28).to(DEVICE)\n",
    "            encoded, decoded = model(image)\n",
    "            \n",
    "            test_loss += criterion(decoded, image).item()\n",
    "            real_image.append(image.to(\"cpu\"))\n",
    "            gen_image.append(decoded.to(\"cpu\"))\n",
    "            \n",
    "    test_loss /= (len(test_loader.dataset) / BATCH_SIZE) # 평균 Loss 값 반환\n",
    "\n",
    "    return test_loss, real_image, gen_image"
   ]
  },
  {
   "cell_type": "code",
   "execution_count": 11,
   "metadata": {},
   "outputs": [
    {
     "name": "stdout",
     "output_type": "stream",
     "text": [
      "Train Epoch: 1 [0/60000 (0%)]\tTrain Loss: 0.228145\n",
      "Train Epoch: 1 [6400/60000 (11%)]\tTrain Loss: 0.032615\n",
      "Train Epoch: 1 [12800/60000 (21%)]\tTrain Loss: 0.024880\n",
      "Train Epoch: 1 [19200/60000 (32%)]\tTrain Loss: 0.020586\n",
      "Train Epoch: 1 [25600/60000 (43%)]\tTrain Loss: 0.018682\n",
      "Train Epoch: 1 [32000/60000 (53%)]\tTrain Loss: 0.016610\n",
      "Train Epoch: 1 [38400/60000 (64%)]\tTrain Loss: 0.019907\n",
      "Train Epoch: 1 [44800/60000 (75%)]\tTrain Loss: 0.015625\n",
      "Train Epoch: 1 [51200/60000 (85%)]\tTrain Loss: 0.019536\n",
      "Train Epoch: 1 [57600/60000 (96%)]\tTrain Loss: 0.015427\n",
      "\n",
      "[EPOCH: 1], \tTest Loss: 0.0153\n",
      "Train Epoch: 2 [0/60000 (0%)]\tTrain Loss: 0.015254\n",
      "Train Epoch: 2 [6400/60000 (11%)]\tTrain Loss: 0.013999\n",
      "Train Epoch: 2 [12800/60000 (21%)]\tTrain Loss: 0.013280\n",
      "Train Epoch: 2 [19200/60000 (32%)]\tTrain Loss: 0.011842\n",
      "Train Epoch: 2 [25600/60000 (43%)]\tTrain Loss: 0.013597\n",
      "Train Epoch: 2 [32000/60000 (53%)]\tTrain Loss: 0.012319\n",
      "Train Epoch: 2 [38400/60000 (64%)]\tTrain Loss: 0.013536\n",
      "Train Epoch: 2 [44800/60000 (75%)]\tTrain Loss: 0.013373\n",
      "Train Epoch: 2 [51200/60000 (85%)]\tTrain Loss: 0.011547\n",
      "Train Epoch: 2 [57600/60000 (96%)]\tTrain Loss: 0.014530\n",
      "\n",
      "[EPOCH: 2], \tTest Loss: 0.0130\n",
      "Train Epoch: 3 [0/60000 (0%)]\tTrain Loss: 0.013158\n",
      "Train Epoch: 3 [6400/60000 (11%)]\tTrain Loss: 0.012207\n",
      "Train Epoch: 3 [12800/60000 (21%)]\tTrain Loss: 0.012051\n",
      "Train Epoch: 3 [19200/60000 (32%)]\tTrain Loss: 0.012645\n",
      "Train Epoch: 3 [25600/60000 (43%)]\tTrain Loss: 0.014294\n",
      "Train Epoch: 3 [32000/60000 (53%)]\tTrain Loss: 0.011276\n",
      "Train Epoch: 3 [38400/60000 (64%)]\tTrain Loss: 0.013502\n",
      "Train Epoch: 3 [44800/60000 (75%)]\tTrain Loss: 0.013010\n",
      "Train Epoch: 3 [51200/60000 (85%)]\tTrain Loss: 0.010240\n",
      "Train Epoch: 3 [57600/60000 (96%)]\tTrain Loss: 0.010215\n",
      "\n",
      "[EPOCH: 3], \tTest Loss: 0.0118\n",
      "Train Epoch: 4 [0/60000 (0%)]\tTrain Loss: 0.014573\n",
      "Train Epoch: 4 [6400/60000 (11%)]\tTrain Loss: 0.009933\n",
      "Train Epoch: 4 [12800/60000 (21%)]\tTrain Loss: 0.011716\n",
      "Train Epoch: 4 [19200/60000 (32%)]\tTrain Loss: 0.013596\n",
      "Train Epoch: 4 [25600/60000 (43%)]\tTrain Loss: 0.011133\n",
      "Train Epoch: 4 [32000/60000 (53%)]\tTrain Loss: 0.011559\n",
      "Train Epoch: 4 [38400/60000 (64%)]\tTrain Loss: 0.012696\n",
      "Train Epoch: 4 [44800/60000 (75%)]\tTrain Loss: 0.013717\n",
      "Train Epoch: 4 [51200/60000 (85%)]\tTrain Loss: 0.010797\n",
      "Train Epoch: 4 [57600/60000 (96%)]\tTrain Loss: 0.014097\n",
      "\n",
      "[EPOCH: 4], \tTest Loss: 0.0114\n",
      "Train Epoch: 5 [0/60000 (0%)]\tTrain Loss: 0.011689\n",
      "Train Epoch: 5 [6400/60000 (11%)]\tTrain Loss: 0.010403\n",
      "Train Epoch: 5 [12800/60000 (21%)]\tTrain Loss: 0.010592\n",
      "Train Epoch: 5 [19200/60000 (32%)]\tTrain Loss: 0.011078\n",
      "Train Epoch: 5 [25600/60000 (43%)]\tTrain Loss: 0.009886\n",
      "Train Epoch: 5 [32000/60000 (53%)]\tTrain Loss: 0.010957\n",
      "Train Epoch: 5 [38400/60000 (64%)]\tTrain Loss: 0.010196\n",
      "Train Epoch: 5 [44800/60000 (75%)]\tTrain Loss: 0.009254\n",
      "Train Epoch: 5 [51200/60000 (85%)]\tTrain Loss: 0.012550\n",
      "Train Epoch: 5 [57600/60000 (96%)]\tTrain Loss: 0.012936\n",
      "\n",
      "[EPOCH: 5], \tTest Loss: 0.0110\n",
      "Train Epoch: 6 [0/60000 (0%)]\tTrain Loss: 0.009420\n",
      "Train Epoch: 6 [6400/60000 (11%)]\tTrain Loss: 0.010803\n",
      "Train Epoch: 6 [12800/60000 (21%)]\tTrain Loss: 0.011584\n",
      "Train Epoch: 6 [19200/60000 (32%)]\tTrain Loss: 0.010114\n",
      "Train Epoch: 6 [25600/60000 (43%)]\tTrain Loss: 0.009682\n",
      "Train Epoch: 6 [32000/60000 (53%)]\tTrain Loss: 0.012256\n",
      "Train Epoch: 6 [38400/60000 (64%)]\tTrain Loss: 0.013918\n",
      "Train Epoch: 6 [44800/60000 (75%)]\tTrain Loss: 0.009461\n",
      "Train Epoch: 6 [51200/60000 (85%)]\tTrain Loss: 0.009228\n",
      "Train Epoch: 6 [57600/60000 (96%)]\tTrain Loss: 0.009148\n",
      "\n",
      "[EPOCH: 6], \tTest Loss: 0.0108\n",
      "Train Epoch: 7 [0/60000 (0%)]\tTrain Loss: 0.008975\n",
      "Train Epoch: 7 [6400/60000 (11%)]\tTrain Loss: 0.009674\n",
      "Train Epoch: 7 [12800/60000 (21%)]\tTrain Loss: 0.008962\n",
      "Train Epoch: 7 [19200/60000 (32%)]\tTrain Loss: 0.010494\n",
      "Train Epoch: 7 [25600/60000 (43%)]\tTrain Loss: 0.013496\n",
      "Train Epoch: 7 [32000/60000 (53%)]\tTrain Loss: 0.011734\n",
      "Train Epoch: 7 [38400/60000 (64%)]\tTrain Loss: 0.008059\n",
      "Train Epoch: 7 [44800/60000 (75%)]\tTrain Loss: 0.010452\n",
      "Train Epoch: 7 [51200/60000 (85%)]\tTrain Loss: 0.011000\n",
      "Train Epoch: 7 [57600/60000 (96%)]\tTrain Loss: 0.010713\n",
      "\n",
      "[EPOCH: 7], \tTest Loss: 0.0104\n",
      "Train Epoch: 8 [0/60000 (0%)]\tTrain Loss: 0.009527\n",
      "Train Epoch: 8 [6400/60000 (11%)]\tTrain Loss: 0.007586\n",
      "Train Epoch: 8 [12800/60000 (21%)]\tTrain Loss: 0.009275\n",
      "Train Epoch: 8 [19200/60000 (32%)]\tTrain Loss: 0.010101\n",
      "Train Epoch: 8 [25600/60000 (43%)]\tTrain Loss: 0.009085\n",
      "Train Epoch: 8 [32000/60000 (53%)]\tTrain Loss: 0.011133\n",
      "Train Epoch: 8 [38400/60000 (64%)]\tTrain Loss: 0.009548\n",
      "Train Epoch: 8 [44800/60000 (75%)]\tTrain Loss: 0.010095\n",
      "Train Epoch: 8 [51200/60000 (85%)]\tTrain Loss: 0.008550\n",
      "Train Epoch: 8 [57600/60000 (96%)]\tTrain Loss: 0.009638\n",
      "\n",
      "[EPOCH: 8], \tTest Loss: 0.0102\n",
      "Train Epoch: 9 [0/60000 (0%)]\tTrain Loss: 0.011061\n",
      "Train Epoch: 9 [6400/60000 (11%)]\tTrain Loss: 0.009443\n",
      "Train Epoch: 9 [12800/60000 (21%)]\tTrain Loss: 0.009235\n",
      "Train Epoch: 9 [19200/60000 (32%)]\tTrain Loss: 0.008332\n",
      "Train Epoch: 9 [25600/60000 (43%)]\tTrain Loss: 0.011143\n",
      "Train Epoch: 9 [32000/60000 (53%)]\tTrain Loss: 0.010597\n",
      "Train Epoch: 9 [38400/60000 (64%)]\tTrain Loss: 0.008293\n",
      "Train Epoch: 9 [44800/60000 (75%)]\tTrain Loss: 0.007747\n",
      "Train Epoch: 9 [51200/60000 (85%)]\tTrain Loss: 0.010956\n",
      "Train Epoch: 9 [57600/60000 (96%)]\tTrain Loss: 0.009840\n",
      "\n",
      "[EPOCH: 9], \tTest Loss: 0.0101\n",
      "Train Epoch: 10 [0/60000 (0%)]\tTrain Loss: 0.010485\n",
      "Train Epoch: 10 [6400/60000 (11%)]\tTrain Loss: 0.011647\n",
      "Train Epoch: 10 [12800/60000 (21%)]\tTrain Loss: 0.010622\n",
      "Train Epoch: 10 [19200/60000 (32%)]\tTrain Loss: 0.009287\n",
      "Train Epoch: 10 [25600/60000 (43%)]\tTrain Loss: 0.009056\n",
      "Train Epoch: 10 [32000/60000 (53%)]\tTrain Loss: 0.010537\n",
      "Train Epoch: 10 [38400/60000 (64%)]\tTrain Loss: 0.009509\n",
      "Train Epoch: 10 [44800/60000 (75%)]\tTrain Loss: 0.007947\n",
      "Train Epoch: 10 [51200/60000 (85%)]\tTrain Loss: 0.009949\n",
      "Train Epoch: 10 [57600/60000 (96%)]\tTrain Loss: 0.010987\n",
      "\n",
      "[EPOCH: 10], \tTest Loss: 0.0099\n"
     ]
    }
   ],
   "source": [
    "''' 10. AutoEncoder 학습 실행하며 Test set의 Reconstruction Error 확인하기 '''\n",
    "for epoch in range(1, EPOCHS + 1):\n",
    "    train(model, train_loader, optimizer, log_interval = 200)\n",
    "    test_loss, real_image, gen_image = evaluate(model, test_loader)\n",
    "    print(\"\\n[EPOCH: {}], \\tTest Loss: {:.4f}\".format(epoch, test_loss))\n",
    "#     f, a = plt.subplots(2, 10, figsize = (10, 4))\n",
    "#     for i in range(10):\n",
    "#         img = np.reshape(real_image[0][i], (28, 28))\n",
    "#         a[0][i].imshow(img, cmap = \"gray_r\")\n",
    "#         a[0][i].set_xticks(())\n",
    "#         a[0][i].set_yticks(())\n",
    "    \n",
    "#     for i in range(10):\n",
    "#         img = np.reshape(gen_image[0][i], (28, 28))\n",
    "#         a[1][i].imshow(img, cmap = \"gray_r\")\n",
    "#         a[1][i].set_xticks(())\n",
    "#         a[1][i].set_yticks(())\n",
    "#      plt.show() # 그림 생성 시 커널이 죽음."
   ]
  },
  {
   "cell_type": "code",
   "execution_count": null,
   "metadata": {},
   "outputs": [],
   "source": []
  }
 ],
 "metadata": {
  "kernelspec": {
   "display_name": "Python 3",
   "language": "python",
   "name": "python3"
  },
  "language_info": {
   "codemirror_mode": {
    "name": "ipython",
    "version": 3
   },
   "file_extension": ".py",
   "mimetype": "text/x-python",
   "name": "python",
   "nbconvert_exporter": "python",
   "pygments_lexer": "ipython3",
   "version": "3.8.5"
  }
 },
 "nbformat": 4,
 "nbformat_minor": 4
}
